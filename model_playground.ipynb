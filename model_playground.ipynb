{
 "cells": [
  {
   "cell_type": "code",
   "execution_count": 1,
   "metadata": {},
   "outputs": [],
   "source": [
    "import numpy as np\n",
    "import matplotlib.pyplot as plt\n",
    "import seaborn as sns\n",
    "import pandas as pd\n",
    "from scipy import stats\n",
    "import scipy"
   ]
  },
  {
   "cell_type": "code",
   "execution_count": 2,
   "metadata": {},
   "outputs": [],
   "source": [
    "from sklearn.linear_model import *\n",
    "from sklearn.ensemble import *\n",
    "from sklearn.svm import *\n",
    "from sklearn.neural_network import MLPRegressor\n",
    "from sklearn.tree import ExtraTreeRegressor\n",
    "\n",
    "\n",
    "import xgboost as xgb\n",
    "from catboost import Pool, CatBoostRegressor\n",
    "from lightgbm import LGBMRegressor\n",
    "\n",
    "from sklearn.metrics import mean_absolute_error\n",
    "from data_utils import *\n",
    "\n",
    "\n",
    "from sklearn.model_selection import KFold\n",
    "from sklearn.model_selection import train_test_split, cross_validate\n"
   ]
  },
  {
   "cell_type": "code",
   "execution_count": 3,
   "metadata": {},
   "outputs": [],
   "source": [
    "df = pd.read_csv(\"data/f_train.csv\")\n",
    "X = df.drop([\"cent_price_cor\", \"cent_trans_cor\"],axis=1).values\n",
    "\n",
    "inputs = [\"cent_price_cor\", \"cent_trans_cor\"] # Use this for multi-output models\n",
    "inputs = [\"cent_price_cor\"]  # Use this for single output models \n",
    "y = df[inputs].values \n"
   ]
  },
  {
   "cell_type": "code",
   "execution_count": 4,
   "metadata": {},
   "outputs": [],
   "source": [
    "def plot_pred_ensemble(model, X):\n",
    "    preds = pd.DataFrame()\n",
    "    for name, pred in model.named_estimators_.items():\n",
    "        preds[name] = pred.predict(X)\n",
    "    preds[\"ensemble\"] = model.predict(X)\n",
    "    preds.sort_values(by=[\"ensemble\"], inplace=True)\n",
    "    preds = preds.apply(np.square)\n",
    "    fig, ax = plt.subplots(figsize=(16, 6))\n",
    "    plt.subplot(1,2,1)\n",
    "    for i in preds.columns:\n",
    "        sns.lineplot(data=preds, x=np.arange(len(X)), y=i, label=i)\n",
    "    plt.legend()\n",
    "    plt.subplot(1,2,2)\n",
    "    sns.histplot(data=preds, x=\"ensemble\", bins=10)\n",
    "    plt.show()\n",
    "    "
   ]
  },
  {
   "cell_type": "code",
   "execution_count": 5,
   "metadata": {},
   "outputs": [],
   "source": [
    "#model = MLPRegressor(4, activation=\"relu\", solver=\"adam\", max_iter=5000, alpha=.1, max_fun=20000)\n",
    "#model = SGDRegressor(alpha=.00000)\n",
    "\n",
    "#model = NuSVR(nu=0.4, C=300, gamma=\"auto\")\n",
    "#model = KernelRidge(alpha=1, degree=2, kernel=\"poly\")#, gamma=.05)\n",
    "\n",
    "#model = RandomForestRegressor(n_estimators=100, max_depth=15, random_state=1337, n_jobs=4)\n",
    "\n",
    "#model = xgb.XGBRegressor(n_estimators=200, learning_rate=0.1, max_depth=2, reg_alpha=0.1, reg_lambda=0.1, gamma=0.3, subsample=0.9,min_child_weight=0.5, n_jobs=4)\n",
    "#model = CatBoostRegressor(verbose=False)\n",
    "#model = LGBMRegressor(max_bin=64, lambda_l1=0.1, lambda_l2=0.1, learning_rate=.1, num_leaves=20, bagging_freq=1, bagging_fraction=.9, max_depth=15, verbose=0)\n",
    "\n",
    "#model = BayesianRidge()\n",
    "model = Ridge(.1)\n",
    "estimators = [#(\"kernel_ridge\", KernelRidge(alpha=1, degree=2, kernel=\"poly\", gamma=.05)),\n",
    "              (\"xgb\", xgb.XGBRegressor(n_estimators=1000, learning_rate=0.1, max_depth=3, reg_alpha=0.1, reg_lambda=0.1, gamma=0.3, subsample=0.9,min_child_weight=0.5)),\n",
    "              #(\"ann\", MLPRegressor(8, solver=\"lbfgs\", max_iter=5000, alpha=0.5, learning_rate_init=0.002, max_fun=20000)),\n",
    "              (\"lgbm\", LGBMRegressor(max_bin=255, lambda_l1=0.01, lambda_l2=0.1, learning_rate=.1, num_leaves=20, bagging_freq=1, bagging_fraction=.9, max_depth=12)),\n",
    "              (\"b_ridge\", BayesianRidge()),\n",
    "              #(\"svr\", NuSVR(nu=0.4, C=300, gamma=\"auto\"))\n",
    "             ]\n",
    "#model = VotingRegressor(estimators=estimators)#, weights=[0.4, 0.4, 0.2])\n",
    "#model = StackingRegressor(estimators=estimators, n_jobs=4)\n",
    "#model = GradientBoostingRegressor(n_estimators=600, max_depth=2, random_state=1337)\n"
   ]
  },
  {
   "cell_type": "code",
   "execution_count": 6,
   "metadata": {},
   "outputs": [
    {
     "name": "stdout",
     "output_type": "stream",
     "text": [
      "mae:  0.09395572371028389\n",
      "mae:  0.09270052045090013\n",
      "mae:  0.09419593977602647\n",
      "mae:  0.09499826984599773\n",
      "mae:  0.09312277042569134\n",
      "mae:  0.09227077101654485\n",
      "mae:  0.09899935904833958\n",
      "mae:  0.09362488976506338\n",
      "mae:  0.09400980890528308\n",
      "mae:  0.09113686946055422\n",
      "media: 0.09390149224046847\n"
     ]
    }
   ],
   "source": [
    "k = 10\n",
    "kf = KFold(n_splits=k, shuffle = True)\n",
    "scores = []\n",
    "cheats = []\n",
    "\n",
    "for train_index, test_index in kf.split(X):\n",
    "    X_train, X_test = X[train_index], X[test_index]\n",
    "    y_train, y_test = y[train_index], y[test_index]\n",
    "\n",
    "    model.fit(X_train, y_train)\n",
    "    y_pred = model.predict(X_test)\n",
    "    print(\"mae: \",mean_absolute_error(y_test,y_pred))\n",
    "    scores.append(mean_absolute_error(y_test,y_pred))\n",
    "    \n",
    "    #plot_pred_ensemble(model, X_test) # enable this if running ensembles\n",
    "\n",
    "print(\"media:\", np.mean(scores))"
   ]
  },
  {
   "cell_type": "code",
   "execution_count": 7,
   "metadata": {},
   "outputs": [
    {
     "data": {
      "text/html": [
       "<div>\n",
       "<style scoped>\n",
       "    .dataframe tbody tr th:only-of-type {\n",
       "        vertical-align: middle;\n",
       "    }\n",
       "\n",
       "    .dataframe tbody tr th {\n",
       "        vertical-align: top;\n",
       "    }\n",
       "\n",
       "    .dataframe thead th {\n",
       "        text-align: right;\n",
       "    }\n",
       "</style>\n",
       "<table border=\"1\" class=\"dataframe\">\n",
       "  <thead>\n",
       "    <tr style=\"text-align: right;\">\n",
       "      <th></th>\n",
       "      <th>cent_price_cor</th>\n",
       "    </tr>\n",
       "  </thead>\n",
       "  <tbody>\n",
       "    <tr>\n",
       "      <th>count</th>\n",
       "      <td>1193.000000</td>\n",
       "    </tr>\n",
       "    <tr>\n",
       "      <th>mean</th>\n",
       "      <td>-0.202904</td>\n",
       "    </tr>\n",
       "    <tr>\n",
       "      <th>std</th>\n",
       "      <td>0.007055</td>\n",
       "    </tr>\n",
       "    <tr>\n",
       "      <th>min</th>\n",
       "      <td>-0.226662</td>\n",
       "    </tr>\n",
       "    <tr>\n",
       "      <th>25%</th>\n",
       "      <td>-0.207618</td>\n",
       "    </tr>\n",
       "    <tr>\n",
       "      <th>50%</th>\n",
       "      <td>-0.203119</td>\n",
       "    </tr>\n",
       "    <tr>\n",
       "      <th>75%</th>\n",
       "      <td>-0.198179</td>\n",
       "    </tr>\n",
       "    <tr>\n",
       "      <th>max</th>\n",
       "      <td>-0.178218</td>\n",
       "    </tr>\n",
       "  </tbody>\n",
       "</table>\n",
       "</div>"
      ],
      "text/plain": [
       "       cent_price_cor\n",
       "count     1193.000000\n",
       "mean        -0.202904\n",
       "std          0.007055\n",
       "min         -0.226662\n",
       "25%         -0.207618\n",
       "50%         -0.203119\n",
       "75%         -0.198179\n",
       "max         -0.178218"
      ]
     },
     "execution_count": 7,
     "metadata": {},
     "output_type": "execute_result"
    }
   ],
   "source": [
    "df_out = pd.DataFrame(model.predict(X_test), columns=inputs)\n",
    "df_out.describe()"
   ]
  },
  {
   "cell_type": "code",
   "execution_count": 8,
   "metadata": {},
   "outputs": [
    {
     "data": {
      "image/png": "[encoded data removed]",
      "text/plain": [
       "<Figure size 432x288 with 1 Axes>"
      ]
     },
     "metadata": {
      "needs_background": "light"
     },
     "output_type": "display_data"
    }
   ],
   "source": [
    "sns.histplot(data=df, x=\"cent_price_cor\", stat=\"probability\", bins=30, color=\"black\")\n",
    "sns.histplot(data=df, x=\"cent_trans_cor\", stat=\"probability\", bins=30, color=\"w\")\n",
    "\n",
    "for i in inputs:\n",
    "    sns.histplot(data=df_out, x=i, stat=\"probability\",bins=30, color=\"r\")"
   ]
  },
  {
   "cell_type": "code",
   "execution_count": null,
   "metadata": {},
   "outputs": [],
   "source": []
  }
 ],
 "metadata": {
  "kernelspec": {
   "display_name": "paic_kernel",
   "language": "python",
   "name": "paic_kernel"
  },
  "language_info": {
   "codemirror_mode": {
    "name": "ipython",
    "version": 3
   },
   "file_extension": ".py",
   "mimetype": "text/x-python",
   "name": "python",
   "nbconvert_exporter": "python",
   "pygments_lexer": "ipython3",
   "version": "3.6.10"
  }
 },
 "nbformat": 4,
 "nbformat_minor": 4
}
