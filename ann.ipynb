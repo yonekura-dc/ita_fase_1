{
 "cells": [
  {
   "cell_type": "code",
   "execution_count": 1,
   "metadata": {},
   "outputs": [],
   "source": [
    "import numpy as np\n",
    "import matplotlib.pyplot as plt\n",
    "import seaborn as sns\n",
    "import pandas as pd\n",
    "import math\n",
    "\n",
    "from sklearn.model_selection import train_test_split\n"
   ]
  },
  {
   "cell_type": "code",
   "execution_count": 2,
   "metadata": {},
   "outputs": [],
   "source": [
    "import tensorflow as tf\n",
    "from tensorflow.keras.datasets import mnist\n",
    "from tensorflow.keras.layers import (Activation, BatchNormalization, Concatenate, Dense,\n",
    "                          Embedding, Flatten, Input, Multiply, Reshape, Dropout, LeakyReLU, Conv2D, Conv2DTranspose, ELU,\n",
    "                                    GaussianNoise, ActivityRegularization, Add, PReLU, ReLU)\n",
    "from tensorflow.keras.models import Model, Sequential\n",
    "from tensorflow.keras.optimizers import Adam, SGD, RMSprop, Nadam, Adamax, Ftrl\n",
    "from tensorflow.keras.losses import CosineSimilarity, Huber, LogCosh\n",
    "from tensorflow.keras.initializers import he_normal, he_uniform, glorot_uniform\n",
    "from tensorflow.keras import regularizers\n",
    "from tensorflow.keras.callbacks import EarlyStopping, ModelCheckpoint, LearningRateScheduler"
   ]
  },
  {
   "cell_type": "code",
   "execution_count": 3,
   "metadata": {},
   "outputs": [],
   "source": [
    "df = pd.read_csv('data/f_train.csv')\n",
    "X = df.drop(['cent_price_cor', 'cent_trans_cor'],axis=1).values\n",
    "y = df[['cent_price_cor', 'cent_trans_cor']].values"
   ]
  },
  {
   "cell_type": "code",
   "execution_count": 4,
   "metadata": {},
   "outputs": [],
   "source": [
    "def add_dense(x, n):\n",
    "    x = Dense(n, \n",
    "              kernel_regularizer=regularizers.l1_l2(l1=0.01, l2=0.01), \n",
    "              use_bias=False,\n",
    "              kernel_initializer=he_normal())(x)\n",
    "    x = LeakyReLU()(x)\n",
    "    x = BatchNormalization()(x)\n",
    "    return x\n",
    "\n",
    "def output_layer(x, name):\n",
    "    return Dense(1, \n",
    "                 activation=\"tanh\", \n",
    "                 name=name,\n",
    "                 use_bias=False,\n",
    "                 kernel_regularizer=regularizers.l1_l2(l1=0.01, l2=0.01), \n",
    "                 kernel_initializer=glorot_uniform())(x)\n"
   ]
  },
  {
   "cell_type": "code",
   "execution_count": 5,
   "metadata": {},
   "outputs": [],
   "source": [
    "in_  = Input(shape=(X.shape[1],))\n",
    "x    = add_dense(in_, 10)\n",
    "out1 = output_layer(x, \"price_out\")\n",
    "out2 = output_layer(x, \"trans_out\")\n",
    "\n",
    "model = Model(in_, [out1, out2])"
   ]
  },
  {
   "cell_type": "code",
   "execution_count": 6,
   "metadata": {},
   "outputs": [],
   "source": [
    "losses = {\"price_out\": \"mae\", \"trans_out\": \"mae\"}\n",
    "weights = {\"price_out\": 1, \"trans_out\": 1}\n",
    "model.compile(loss=losses, loss_weights=weights, optimizer=Adam(lr=0.001, epsilon=1e-8), metrics=['mae'])"
   ]
  },
  {
   "cell_type": "code",
   "execution_count": 7,
   "metadata": {},
   "outputs": [],
   "source": [
    "earlystop = EarlyStopping(monitor='val_trans_out_mae', min_delta=0.0001, patience=100, verbose=1, restore_best_weights=True)"
   ]
  },
  {
   "cell_type": "code",
   "execution_count": 8,
   "metadata": {},
   "outputs": [
    {
     "data": {
      "text/plain": [
       "<tensorflow.python.keras.callbacks.History at 0x7f7d0cee1ef0>"
      ]
     },
     "execution_count": 8,
     "metadata": {},
     "output_type": "execute_result"
    }
   ],
   "source": [
    "f_y = {\"price_out\": y[:,0], \"trans_out\": y[:,1]}\n",
    "model.fit(X,f_y, epochs=400, callbacks=[], validation_split=0.1, shuffle=True, batch_size=2000, verbose=0)"
   ]
  },
  {
   "cell_type": "code",
   "execution_count": 9,
   "metadata": {},
   "outputs": [
    {
     "name": "stdout",
     "output_type": "stream",
     "text": [
      "(8059,)\n"
     ]
    },
    {
     "data": {
      "text/html": [
       "<div>\n",
       "<style scoped>\n",
       "    .dataframe tbody tr th:only-of-type {\n",
       "        vertical-align: middle;\n",
       "    }\n",
       "\n",
       "    .dataframe tbody tr th {\n",
       "        vertical-align: top;\n",
       "    }\n",
       "\n",
       "    .dataframe thead th {\n",
       "        text-align: right;\n",
       "    }\n",
       "</style>\n",
       "<table border=\"1\" class=\"dataframe\">\n",
       "  <thead>\n",
       "    <tr style=\"text-align: right;\">\n",
       "      <th></th>\n",
       "      <th>price</th>\n",
       "      <th>trans</th>\n",
       "    </tr>\n",
       "  </thead>\n",
       "  <tbody>\n",
       "    <tr>\n",
       "      <th>count</th>\n",
       "      <td>8059.000000</td>\n",
       "      <td>8059.000000</td>\n",
       "    </tr>\n",
       "    <tr>\n",
       "      <th>mean</th>\n",
       "      <td>-0.155437</td>\n",
       "      <td>0.387473</td>\n",
       "    </tr>\n",
       "    <tr>\n",
       "      <th>std</th>\n",
       "      <td>0.032055</td>\n",
       "      <td>0.016661</td>\n",
       "    </tr>\n",
       "    <tr>\n",
       "      <th>min</th>\n",
       "      <td>-0.199464</td>\n",
       "      <td>0.334421</td>\n",
       "    </tr>\n",
       "    <tr>\n",
       "      <th>25%</th>\n",
       "      <td>-0.180038</td>\n",
       "      <td>0.376367</td>\n",
       "    </tr>\n",
       "    <tr>\n",
       "      <th>50%</th>\n",
       "      <td>-0.162709</td>\n",
       "      <td>0.384600</td>\n",
       "    </tr>\n",
       "    <tr>\n",
       "      <th>75%</th>\n",
       "      <td>-0.138311</td>\n",
       "      <td>0.395627</td>\n",
       "    </tr>\n",
       "    <tr>\n",
       "      <th>max</th>\n",
       "      <td>-0.005305</td>\n",
       "      <td>0.474573</td>\n",
       "    </tr>\n",
       "  </tbody>\n",
       "</table>\n",
       "</div>"
      ],
      "text/plain": [
       "             price        trans\n",
       "count  8059.000000  8059.000000\n",
       "mean     -0.155437     0.387473\n",
       "std       0.032055     0.016661\n",
       "min      -0.199464     0.334421\n",
       "25%      -0.180038     0.376367\n",
       "50%      -0.162709     0.384600\n",
       "75%      -0.138311     0.395627\n",
       "max      -0.005305     0.474573"
      ]
     },
     "execution_count": 9,
     "metadata": {},
     "output_type": "execute_result"
    }
   ],
   "source": [
    "df_test = pd.read_csv('data/f_test.csv')\n",
    "test = df_test.drop(['id'],axis=1)\n",
    "id_test = df_test['id']\n",
    "\n",
    "y_pred = model.predict(test)\n",
    "print(y_pred[0].reshape(-1).shape)\n",
    "bruh = {\"price\": y_pred[0].reshape(-1), \"trans\": y_pred[1].reshape(-1)}\n",
    "result = pd.DataFrame(bruh)\n",
    "result.describe()"
   ]
  },
  {
   "cell_type": "code",
   "execution_count": 10,
   "metadata": {},
   "outputs": [
    {
     "data": {
      "text/plain": [
       "<AxesSubplot:xlabel='cent_price_cor', ylabel='Probability'>"
      ]
     },
     "execution_count": 10,
     "metadata": {},
     "output_type": "execute_result"
    },
    {
     "data": {
      "image/png": "[encoded data removed]",
      "text/plain": [
       "<Figure size 432x288 with 1 Axes>"
      ]
     },
     "metadata": {
      "needs_background": "light"
     },
     "output_type": "display_data"
    }
   ],
   "source": [
    "sns.histplot(data=df, x='cent_price_cor', stat=\"probability\", bins=30, color='black')\n",
    "sns.histplot(data=df, x='cent_trans_cor', stat=\"probability\", bins=30, color='w')\n",
    "\n",
    "sns.histplot(data=result, x='price', stat=\"probability\",bins=30, color='r')\n",
    "sns.histplot(data=result, x='trans', stat=\"probability\", bins=30, color='b')"
   ]
  },
  {
   "cell_type": "code",
   "execution_count": null,
   "metadata": {},
   "outputs": [],
   "source": []
  }
 ],
 "metadata": {
  "kernelspec": {
   "display_name": "paic_kernel",
   "language": "python",
   "name": "paic_kernel"
  },
  "language_info": {
   "codemirror_mode": {
    "name": "ipython",
    "version": 3
   },
   "file_extension": ".py",
   "mimetype": "text/x-python",
   "name": "python",
   "nbconvert_exporter": "python",
   "pygments_lexer": "ipython3",
   "version": "3.6.10"
  }
 },
 "nbformat": 4,
 "nbformat_minor": 4
}
